{
 "cells": [
  {
   "cell_type": "code",
   "execution_count": 18,
   "metadata": {},
   "outputs": [],
   "source": [
    "products = [\n",
    "        {\"name\":\"samsung mobile\", \"tags\":[\"mobile\",\"demo\"]},\n",
    "        {\"name\":\"nokia mobile\", \"tags\":[\"mobile\"]},\n",
    "        {\"name\":\"samsung screen guard\", \"tags\":[\"mobile\"]},\n",
    "        {\"name\":\"apple mobile\", \"tags\":[\"mobile\"]},\n",
    "        {\"name\":\"nike shoes\", \"tags\":[\"legs\"]},\n",
    "        {\"name\":\"nike socks\", \"tags\":[\"legs\"]},\n",
    "        {\"name\":\"demin jeans\", \"tags\":[\"legs\"]},\n",
    "        {\"name\":\"jordern shoes\", \"tags\":[\"legs\"]},\n",
    "        {\"name\":\"samsung tv\", \"tags\":[\"tv\"]}\n",
    "]"
   ]
  },
  {
   "cell_type": "code",
   "execution_count": 48,
   "metadata": {},
   "outputs": [],
   "source": [
    "tags = {\n",
    "        \"shoes\":\"legs\",\n",
    "        \"watch\":\"hands\",\n",
    "        \"mobile\":\"mobile\",\n",
    "        \"samsung\":\"mobile\",\n",
    "        \"jeans\": \"legs\",\n",
    "        \"nokia\": \"mobile\"\n",
    "    }\n",
    "# THIS IS THE PLACE WHERE THIS ALGO FAILS\n",
    "# \"samsung_<item_type>\":\"tv\" | \"mobile\" | \"fridge\""
   ]
  },
  {
   "cell_type": "code",
   "execution_count": 41,
   "metadata": {},
   "outputs": [],
   "source": [
    "# get recent user 10 search result.\n",
    "search_pattern_arr = [\n",
    "        {\"<u_id:1>\":[\"shoes\",\"watch\",\"jeans\"]}, \n",
    "        {\"<u_id:2>\":[\"jeans\",\"shirt\",\"nokia\"]},\n",
    "        {\"<u_id:32>\":[]}       \n",
    "]"
   ]
  },
  {
   "cell_type": "code",
   "execution_count": 42,
   "metadata": {},
   "outputs": [
    {
     "name": "stdout",
     "output_type": "stream",
     "text": [
      "Prod recommendation for <u_id:1>[SEARCH HISTORY]:  ['shoes', 'watch', 'jeans']\n",
      "nike shoes\n",
      "nike socks\n",
      "demin jeans\n",
      "jordern shoes\n",
      "\t----------------------------------------------\t\n",
      "Prod recommendation for <u_id:2>[SEARCH HISTORY]:  ['jeans', 'shirt', 'nokia']\n",
      "nike shoes\n",
      "nike socks\n",
      "demin jeans\n",
      "jordern shoes\n",
      "samsung mobile\n",
      "nokia mobile\n",
      "samsung screen guard\n",
      "apple mobile\n",
      "\t----------------------------------------------\t\n",
      "Prod recommendation for <u_id:32>[SEARCH HISTORY]:  []\n",
      "\t----------------------------------------------\t\n"
     ]
    }
   ],
   "source": [
    "def main():\n",
    "    #sol: {\"user\":[{\"shoes\":\"legs\"},{\"watch\":\"hand\"},{\"jeans\":\"legs\"},{\"watch\":\"hand\"},{\"shirt\":\"hand\"}]} \n",
    "    #indentify that shoes has a tag legs\n",
    "    # jeans has a tag of legs\n",
    "    # how to add tag shoes with legs tag?\n",
    "    \n",
    "    global products; global search_pattern_arr\n",
    "    \n",
    "    for x in search_pattern_arr:\n",
    "        print(\"Prod recommendation for {}\".format(list(x.keys())[0]), end=\"\")\n",
    "        print(\"[SEARCH HISTORY]: \", x[list(x.keys())[0]])\n",
    "        memo = {}\n",
    "        for j in x[list(x.keys())[0]]: # getting the first key from DICT\n",
    "            res = getReleventTags(j) # get relevet tag for the prod.\n",
    "            # get all products that have a same tag as the searched products\n",
    "            if res not in memo:\n",
    "                memo.__setitem__(res,1)\n",
    "            else:\n",
    "                continue\n",
    "            for p in products:\n",
    "                #print(p['tags'])\n",
    "                if(res in p['tags']):\n",
    "                    print(p['name'])\n",
    "        print(\"\\t----------------------------------------------\\t\")\n",
    "\n",
    "def getReleventTags(x):\n",
    "    global tags\n",
    "    return tags.get(x, \"NO TAG FOUND FOR <{prod}>\".format(prod=x))\n",
    "\n",
    "main()"
   ]
  },
  {
   "cell_type": "code",
   "execution_count": null,
   "metadata": {},
   "outputs": [],
   "source": []
  },
  {
   "cell_type": "code",
   "execution_count": null,
   "metadata": {},
   "outputs": [],
   "source": []
  },
  {
   "cell_type": "code",
   "execution_count": null,
   "metadata": {},
   "outputs": [],
   "source": []
  }
 ],
 "metadata": {
  "kernelspec": {
   "display_name": "Python 3",
   "language": "python",
   "name": "python3"
  },
  "language_info": {
   "codemirror_mode": {
    "name": "ipython",
    "version": 3
   },
   "file_extension": ".py",
   "mimetype": "text/x-python",
   "name": "python",
   "nbconvert_exporter": "python",
   "pygments_lexer": "ipython3",
   "version": "3.7.6"
  }
 },
 "nbformat": 4,
 "nbformat_minor": 4
}
