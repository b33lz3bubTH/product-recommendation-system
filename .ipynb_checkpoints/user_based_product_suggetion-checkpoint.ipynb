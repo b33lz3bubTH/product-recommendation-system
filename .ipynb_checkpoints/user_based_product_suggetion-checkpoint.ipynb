{
 "cells": [
  {
   "cell_type": "code",
   "execution_count": 18,
   "metadata": {},
   "outputs": [],
   "source": [
    "products = [\n",
    "        {\"name\":\"samsung mobile\", \"tags\":[\"mobile\",\"demo\"]},\n",
    "        {\"name\":\"nokia mobile\", \"tags\":[\"mobile\"]},\n",
    "        {\"name\":\"samsung screen guard\", \"tags\":[\"mobile\"]},\n",
    "        {\"name\":\"apple mobile\", \"tags\":[\"mobile\"]},\n",
    "        {\"name\":\"nike shoes\", \"tags\":[\"legs\"]},\n",
    "        {\"name\":\"nike socks\", \"tags\":[\"legs\"]},\n",
    "        {\"name\":\"demin jeans\", \"tags\":[\"legs\"]},\n",
    "        {\"name\":\"jordern shoes\", \"tags\":[\"legs\"]},\n",
    "        {\"name\":\"samsung tv\", \"tags\":[\"tv\"]}\n",
    "]"
   ]
  },
  {
   "cell_type": "code",
   "execution_count": 48,
   "metadata": {},
   "outputs": [],
   "source": [
    "tags = {\n",
    "        \"shoes\":\"legs\",\n",
    "        \"watch\":\"hands\",\n",
    "        \"mobile\":\"mobile\",\n",
    "        \"samsung\":\"mobile\",\n",
    "        \"jeans\": \"legs\",\n",
    "        \"nokia\": \"mobile\"\n",
    "    }\n",
    "# THIS IS THE PLACE WHERE THIS ALGO FAILS\n",
    "# \"samsung_<item_type>\":\"tv\" | \"mobile\" | \"fridge\""
   ]
  },
  {
   "cell_type": "code",
   "execution_count": 41,
   "metadata": {},
   "outputs": [],
   "source": [
    "# get recent user 10 search result.\n",
    "user_history_record = [\n",
    "        {\"<u_id:1>\":[\"shoes\",\"watch\",\"jeans\"]}, \n",
    "        {\"<u_id:2>\":[\"jeans\",\"shirt\",\"nokia\"]},\n",
    "        {\"<u_id:32>\":[]}       \n",
    "]"
   ]
  },
  {
   "cell_type": "code",
   "execution_count": 2,
   "metadata": {},
   "outputs": [
    {
     "ename": "NameError",
     "evalue": "name 'user_history_record' is not defined",
     "output_type": "error",
     "traceback": [
      "\u001b[0;31m---------------------------------------------------------------------------\u001b[0m",
      "\u001b[0;31mNameError\u001b[0m                                 Traceback (most recent call last)",
      "\u001b[0;32m<ipython-input-2-6d1cc0793f2a>\u001b[0m in \u001b[0;36m<module>\u001b[0;34m\u001b[0m\n\u001b[1;32m     28\u001b[0m     \u001b[0;32mreturn\u001b[0m \u001b[0mtags\u001b[0m\u001b[0;34m.\u001b[0m\u001b[0mget\u001b[0m\u001b[0;34m(\u001b[0m\u001b[0mx\u001b[0m\u001b[0;34m,\u001b[0m \u001b[0;34m\"NO TAG FOUND FOR <{prod}>\"\u001b[0m\u001b[0;34m.\u001b[0m\u001b[0mformat\u001b[0m\u001b[0;34m(\u001b[0m\u001b[0mprod\u001b[0m\u001b[0;34m=\u001b[0m\u001b[0mx\u001b[0m\u001b[0;34m)\u001b[0m\u001b[0;34m)\u001b[0m\u001b[0;34m\u001b[0m\u001b[0;34m\u001b[0m\u001b[0m\n\u001b[1;32m     29\u001b[0m \u001b[0;34m\u001b[0m\u001b[0m\n\u001b[0;32m---> 30\u001b[0;31m \u001b[0mmain\u001b[0m\u001b[0;34m(\u001b[0m\u001b[0;34m)\u001b[0m\u001b[0;34m\u001b[0m\u001b[0;34m\u001b[0m\u001b[0m\n\u001b[0m",
      "\u001b[0;32m<ipython-input-2-6d1cc0793f2a>\u001b[0m in \u001b[0;36mmain\u001b[0;34m()\u001b[0m\n\u001b[1;32m      7\u001b[0m     \u001b[0;32mglobal\u001b[0m \u001b[0mproducts\u001b[0m\u001b[0;34m;\u001b[0m \u001b[0;32mglobal\u001b[0m \u001b[0muser_history_record\u001b[0m\u001b[0;34m\u001b[0m\u001b[0;34m\u001b[0m\u001b[0m\n\u001b[1;32m      8\u001b[0m \u001b[0;34m\u001b[0m\u001b[0m\n\u001b[0;32m----> 9\u001b[0;31m     \u001b[0;32mfor\u001b[0m \u001b[0muserHistory\u001b[0m \u001b[0;32min\u001b[0m \u001b[0muser_history_record\u001b[0m\u001b[0;34m:\u001b[0m\u001b[0;34m\u001b[0m\u001b[0;34m\u001b[0m\u001b[0m\n\u001b[0m\u001b[1;32m     10\u001b[0m         \u001b[0mprint\u001b[0m\u001b[0;34m(\u001b[0m\u001b[0;34m\"Prod recommendation for {}\"\u001b[0m\u001b[0;34m.\u001b[0m\u001b[0mformat\u001b[0m\u001b[0;34m(\u001b[0m\u001b[0mlist\u001b[0m\u001b[0;34m(\u001b[0m\u001b[0muserHistory\u001b[0m\u001b[0;34m.\u001b[0m\u001b[0mkeys\u001b[0m\u001b[0;34m(\u001b[0m\u001b[0;34m)\u001b[0m\u001b[0;34m)\u001b[0m\u001b[0;34m[\u001b[0m\u001b[0;36m0\u001b[0m\u001b[0;34m]\u001b[0m\u001b[0;34m)\u001b[0m\u001b[0;34m,\u001b[0m \u001b[0mend\u001b[0m\u001b[0;34m=\u001b[0m\u001b[0;34m\"\"\u001b[0m\u001b[0;34m)\u001b[0m\u001b[0;34m\u001b[0m\u001b[0;34m\u001b[0m\u001b[0m\n\u001b[1;32m     11\u001b[0m         \u001b[0mprint\u001b[0m\u001b[0;34m(\u001b[0m\u001b[0;34m\"[SEARCH HISTORY]: \"\u001b[0m\u001b[0;34m,\u001b[0m \u001b[0muserHistory\u001b[0m\u001b[0;34m[\u001b[0m\u001b[0mlist\u001b[0m\u001b[0;34m(\u001b[0m\u001b[0muserHistory\u001b[0m\u001b[0;34m.\u001b[0m\u001b[0mkeys\u001b[0m\u001b[0;34m(\u001b[0m\u001b[0;34m)\u001b[0m\u001b[0;34m)\u001b[0m\u001b[0;34m[\u001b[0m\u001b[0;36m0\u001b[0m\u001b[0;34m]\u001b[0m\u001b[0;34m]\u001b[0m\u001b[0;34m)\u001b[0m\u001b[0;34m\u001b[0m\u001b[0;34m\u001b[0m\u001b[0m\n",
      "\u001b[0;31mNameError\u001b[0m: name 'user_history_record' is not defined"
     ]
    }
   ],
   "source": [
    "def main():\n",
    "    #sol: {\"user\":[{\"shoes\":\"legs\"},{\"watch\":\"hand\"},{\"jeans\":\"legs\"},{\"watch\":\"hand\"},{\"shirt\":\"hand\"}]} \n",
    "    #indentify that shoes has a tag legs\n",
    "    # jeans has a tag of legs\n",
    "    # how to add tag shoes with legs tag?\n",
    "    \n",
    "    for userHistory in user_history_record:\n",
    "        print(\"Prod recommendation for {}\".format(list(userHistory.keys())[0]), end=\"\")\n",
    "        print(\"[SEARCH HISTORY]: \", userHistory[list(userHistory.keys())[0]])\n",
    "        memo = {}\n",
    "        for j in userHistory[list(userHistory.keys())[0]]: # getting the first key from DICT\n",
    "            res = getReleventTags(j) # get relevet tag for the prod.\n",
    "            # get all products that have a same tag as the searched products\n",
    "            if res not in memo:\n",
    "                memo.__setitem__(res,1)\n",
    "            else:\n",
    "                continue\n",
    "            for p in products:\n",
    "                #print(p['tags'])\n",
    "                if(res in p['tags']):\n",
    "                    print(p['name'])\n",
    "        print(\"\\t----------------------------------------------\\t\")\n",
    "\n",
    "def getReleventTags(x):\n",
    "    global tags\n",
    "    return tags.get(x, \"NO TAG FOUND FOR <{prod}>\".format(prod=x))\n",
    "\n",
    "main(products, user_history_record)"
   ]
  },
  {
   "cell_type": "code",
   "execution_count": null,
   "metadata": {},
   "outputs": [],
   "source": []
  }
 ],
 "metadata": {
  "kernelspec": {
   "display_name": "Python 3",
   "language": "python",
   "name": "python3"
  },
  "language_info": {
   "codemirror_mode": {
    "name": "ipython",
    "version": 3
   },
   "file_extension": ".py",
   "mimetype": "text/x-python",
   "name": "python",
   "nbconvert_exporter": "python",
   "pygments_lexer": "ipython3",
   "version": "3.8.5"
  }
 },
 "nbformat": 4,
 "nbformat_minor": 4
}
