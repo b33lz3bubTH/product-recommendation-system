{
 "cells": [
  {
   "cell_type": "code",
   "execution_count": 24,
   "metadata": {},
   "outputs": [],
   "source": [
    "products = [\n",
    "        {\"name\":\"samsung mobile\", \"tags\":[\"mobile\",\"deno\"]},\n",
    "        {\"name\":\"nokia mobile\", \"tags\":[\"mobile\"]},\n",
    "        {\"name\":\"samsung screen guard\", \"tags\":[\"mobile\"]},\n",
    "        {\"name\":\"apple mobile\", \"tags\":[\"mobile\"]},\n",
    "        {\"name\":\"nike shoes\", \"tags\":[\"legs\"]},\n",
    "        {\"name\":\"nike socks\", \"tags\":[\"legs\"]},\n",
    "        {\"name\":\"demin jeans\", \"tags\":[\"legs\"]},\n",
    "        {\"name\":\"jordern shoes\", \"tags\":[\"legs\"]},\n",
    "        {\"name\":\"samsung tv\", \"tags\":[\"tv\"]}\n",
    "]"
   ]
  },
  {
   "cell_type": "code",
   "execution_count": 27,
   "metadata": {},
   "outputs": [],
   "source": [
    " search_pattern_arr = [\n",
    "        {\"<u_id:1>\":[\"shoes\",\"watch\",\"jeans\",\"watch\",\"shirt\",\"mobile\"]}, \n",
    "        #{\"<u_id:2>\":[\"shoes\",\"watch\",\"jeans\",\"jeans\",\"shirt\",\"shoes\"]},\n",
    "        #{\"<u_id:32>\":[\"watch\",\"watch\",\"watch\",\"shoes\",\"jeans\",\"jeans\"]}\n",
    "        \n",
    "    ]"
   ]
  },
  {
   "cell_type": "code",
   "execution_count": 28,
   "metadata": {},
   "outputs": [
    {
     "name": "stdout",
     "output_type": "stream",
     "text": [
      "PRODUCT RECOMMENDATION FOR USER <u_id:1>\n",
      "USERS SEARCH HISTORY:  ['shoes', 'watch', 'jeans', 'watch', 'shirt', 'mobile']\n",
      "nike shoes\n",
      "nike socks\n",
      "demin jeans\n",
      "jordern shoes\n",
      "nike shoes\n",
      "nike socks\n",
      "demin jeans\n",
      "jordern shoes\n",
      "samsung mobile\n",
      "nokia mobile\n",
      "samsung screen guard\n",
      "apple mobile\n",
      "\t----------------------------------------------\t\n"
     ]
    }
   ],
   "source": [
    "def main():\n",
    "    \n",
    "    #sol: {\"user\":[{\"shoes\":\"legs\"},{\"watch\":\"hand\"},{\"jeans\":\"legs\"},{\"watch\":\"hand\"},{\"shirt\":\"hand\"}]} \n",
    "    #indentify that shoes has a tag legs\n",
    "    # jeans has a tag of legs\n",
    "    # how to add tag shoes with legs tag?\n",
    "    \n",
    "    global products; global search_pattern_arr\n",
    "    \n",
    "    for x in search_pattern_arr:\n",
    "        print(\"PRODUCT RECOMMENDATION FOR USER {}\".format(list(x.keys())[0]))\n",
    "        print(\"USERS SEARCH HISTORY: \", x[list(x.keys())[0]])\n",
    "        memo = {}\n",
    "        for j in x[list(x.keys())[0]]: # getting the first key from DICT\n",
    "            res = getReleventTags(j) # get relevet tag for the prod.\n",
    "            # get all products that have a same tag as the searched products\n",
    "            if res not in memo:\n",
    "                memo.__setitem__(res,1)\n",
    "            else:\n",
    "                continue\n",
    "            for p in products:\n",
    "                #print(p['tags'])\n",
    "                if(res in p['tags']):\n",
    "                    print(p['name'])\n",
    "        print(\"\\t----------------------------------------------\\t\")\n",
    "\n",
    "def getReleventTags(x):\n",
    "    tags = {\n",
    "        \"shoes\":\"legs\",\n",
    "        \"watch\":\"hands\",\n",
    "        \"mobile\":\"mobile\",\n",
    "        \"samsung\":\"legs\",\n",
    "        \"jeans\": \"legs\"\n",
    "    }\n",
    "    return tags.get(x, \"NO TAG FOUND FOR <{prod}>\".format(prod=x))\n",
    "\n",
    "main()"
   ]
  },
  {
   "cell_type": "code",
   "execution_count": null,
   "metadata": {},
   "outputs": [],
   "source": []
  },
  {
   "cell_type": "code",
   "execution_count": null,
   "metadata": {},
   "outputs": [],
   "source": []
  }
 ],
 "metadata": {
  "kernelspec": {
   "display_name": "Python 3",
   "language": "python",
   "name": "python3"
  },
  "language_info": {
   "codemirror_mode": {
    "name": "ipython",
    "version": 3
   },
   "file_extension": ".py",
   "mimetype": "text/x-python",
   "name": "python",
   "nbconvert_exporter": "python",
   "pygments_lexer": "ipython3",
   "version": "3.7.6"
  }
 },
 "nbformat": 4,
 "nbformat_minor": 4
}
