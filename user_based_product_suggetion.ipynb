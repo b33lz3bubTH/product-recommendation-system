{
 "cells": [
  {
   "cell_type": "code",
   "execution_count": 67,
   "metadata": {},
   "outputs": [],
   "source": [
    "import numpy as np\n",
    "import json \n",
    "from sklearn.feature_extraction.text import CountVectorizer\n",
    "from sklearn.metrics.pairwise import cosine_similarity\n",
    "\n",
    "# Step 1: Product Extraction and Cleaning\n",
    "# {\n",
    "#\taccountId: prod.accountId,\n",
    "#\tbaseCode: prod.baseCode, \n",
    "#\tisActive: prod.isActive, \n",
    "#\tmrpPrice: prod.mrpPrice, \n",
    "#\tsellingPrice: prod.sellingPrice,\n",
    "#\tname: prod.name,\n",
    "#\tskuCode: prod.skuCode\n",
    "# }\n",
    "# Step 1.1 Loading data as numpy array"
   ]
  },
  {
   "cell_type": "code",
   "execution_count": 77,
   "metadata": {},
   "outputs": [],
   "source": [
    "class ProductAttributeRepresentor():\n",
    "    def __init__(self, productList):\n",
    "        self.productList = productList\n",
    "    def generateSingleCombinedFeature(self):\n",
    "        self.featureList = [ ]\n",
    "        for product in self.productList:\n",
    "            feature_value = '__'.join(str(attribute_value) for attribute_value in product.values())\n",
    "            self.featureList.append(feature_value)         \n",
    "            \n",
    "    def getIndexFromFeatureList(self, baseCode):\n",
    "        count = 0\n",
    "        for feature_product in self.featureList:\n",
    "            feature_segmentList = feature_product.split(\"__\")\n",
    "            if(baseCode == feature_segmentList[1]):\n",
    "                return (count, True)\n",
    "            count += 1\n",
    "        return (-1, False)\n"
   ]
  },
  {
   "cell_type": "code",
   "execution_count": 92,
   "metadata": {},
   "outputs": [
    {
     "name": "stdout",
     "output_type": "stream",
     "text": [
      "ORDERED PRODUCT INDEX:  5\n",
      "ORDERD PRODUCT:  Fully Organic Weaving Khadi Cotton Saree - White Black\n",
      "==========================================\n",
      "PRODUCT[1] :  Fully Organic Weaving Khadi Cotton Saree -White Black\n",
      "PRODUCT[2] :  Fully Organic Weaving Khadi Cotton Saree - White Pink\n",
      "PRODUCT[3] :  Fully Organic Weaving Khadi Cotton Saree - White Pink\n",
      "PRODUCT[4] :  Fully Organic Weaving Khadi Cotton Saree -White Red Black\n",
      "PRODUCT[5] :  Fully Organic Weaving Khadi Cotton Saree - Red Brown\n",
      "PRODUCT[6] :  Fully Organic Weaving Khadi Cotton Saree - Black Orange Pink\n",
      "PRODUCT[7] :  Handloom Khadi Cotton Elephant Motive Jamdani Saree -  White Red Black\n",
      "PRODUCT[8] :  Fully Organic Weaving Khadi Cotton Saree -Black Red\n",
      "PRODUCT[9] :  Handloom Khadi Cotton Ball Design - White Brown\n",
      "PRODUCT[10] :  Handloom Khadi Cotton Ball Design - White Green\n",
      "PRODUCT[11] :  Handloom Khadi Cotton Ball Design - White Blue\n",
      "PRODUCT[12] :  Handloom Khadi Cotton Ball Design - White Red\n",
      "PRODUCT[13] :  Handloom Khadi Cotton Tree Design - White Red Black\n",
      "PRODUCT[14] :  Handloom Khadi Cotton Fish Design - Pink\n",
      "PRODUCT[15] :  Handloom Khadi Cotton Fish Design - Gray\n",
      "PRODUCT[16] :  Handloom Khadi Cotton Fish Design - Yellow\n",
      "PRODUCT[17] :  Handloom Khadi Cotton Fish Design - White\n",
      "PRODUCT[18] :  Handloom Khadi Cotton Fish Design - Sky\n"
     ]
    }
   ],
   "source": [
    "json_file_pointer = open(\"./data_sets/meomart_products.json\")\n",
    "product_np_data_set = np.array(json.load(json_file_pointer))\n",
    "\n",
    "# feature builder\n",
    "data_set = ProductAttributeRepresentor(product_np_data_set)\n",
    "data_set.generateSingleCombinedFeature()\n",
    "\n",
    "# numerical representation of the dataset: data_set.featureList\n",
    "cv_func = CountVectorizer()\n",
    "numerical_dataset_matrix = cv_func.fit_transform(data_set.featureList)\n",
    "\n",
    "# similartiy\n",
    "cosine_similar_product = cosine_similarity(numerical_dataset_matrix)\n",
    "\n",
    "# user preference\n",
    "product_user_ordered_baseCode = \"KHADI-3007\"\n",
    "# get the index of this product from data_set.featureList\n",
    "\n",
    "\n",
    "product_user_ordered = data_set.getIndexFromFeatureList(product_user_ordered_baseCode)\n",
    "\n",
    "if( product_user_ordered[1] ):\n",
    "    print(\"ORDERED PRODUCT INDEX: \", product_user_ordered[0])\n",
    "    print(\"ORDERD PRODUCT: \", data_set.featureList[product_user_ordered[0]].split(\"__\")[5])\n",
    "    print(\"==========================================\")\n",
    "    \n",
    "    similar_products = list(enumerate(cosine_similar_product[product_user_ordered[0]]))\n",
    "    sorted_similar_products = sorted(similar_products,key=lambda x:x[1],reverse=True)[1:] \n",
    "    \n",
    "    counter = 1\n",
    "    for products in sorted_similar_products:\n",
    "        if(counter <= 18):\n",
    "            print(\"PRODUCT[{}] : \".format(counter), data_set.featureList[products[0]].split(\"__\")[5])\n",
    "            counter += 1\n",
    "        else: break\n",
    "\n"
   ]
  },
  {
   "cell_type": "code",
   "execution_count": null,
   "metadata": {},
   "outputs": [],
   "source": []
  },
  {
   "cell_type": "code",
   "execution_count": null,
   "metadata": {},
   "outputs": [],
   "source": []
  }
 ],
 "metadata": {
  "kernelspec": {
   "display_name": "Python 3",
   "language": "python",
   "name": "python3"
  },
  "language_info": {
   "codemirror_mode": {
    "name": "ipython",
    "version": 3
   },
   "file_extension": ".py",
   "mimetype": "text/x-python",
   "name": "python",
   "nbconvert_exporter": "python",
   "pygments_lexer": "ipython3",
   "version": "3.9.2"
  }
 },
 "nbformat": 4,
 "nbformat_minor": 4
}
