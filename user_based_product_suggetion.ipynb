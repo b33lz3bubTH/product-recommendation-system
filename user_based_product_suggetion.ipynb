{
 "cells": [
  {
   "cell_type": "code",
   "execution_count": 59,
   "metadata": {},
   "outputs": [
    {
     "name": "stdout",
     "output_type": "stream",
     "text": [
      "Product [shoes] tag [legs]\n",
      "nike shoes\n",
      "nike socks\n",
      "jordern shoes\n",
      "Product [watch] tag [hands]\n",
      "Product [jeans] tag [legs]\n",
      "nike shoes\n",
      "nike socks\n",
      "jordern shoes\n",
      "Product [watch] tag [hands]\n",
      "Product [shirt] tag [NO TAG FOUND FOR <shirt>]\n"
     ]
    }
   ],
   "source": [
    "def main():\n",
    "    search_pattern_arr = [\n",
    "        {\"user\":[\"shoes\",\"watch\",\"jeans\",\"watch\",\"shirt\"]}, \n",
    "#         {\"user\":[\"shoes\",\"watch\",\"jeans\",\"jeans\",\"shirt\",\"shoes\"]},\n",
    "        # {\"user\":[\"watch\",\"watch\",\"watch\",\"shoes\",\"jeans\",\"jeans\"]}\n",
    "        \n",
    "    ]\n",
    "    #sol: {\"user\":[{\"shoes\":\"legs\"},{\"watch\":\"hand\"},{\"jeans\":\"legs\"},{\"watch\":\"hand\"},{\"shirt\":\"hand\"}]} \n",
    "    #indentify that shoes has a tag legs\n",
    "    # jeans has a tag of legs\n",
    "    # how to add tag shoes with legs tag?\n",
    "\n",
    "    products = [\n",
    "        {\"name\":\"samsung mobile\", \"tags\":[\"mobile\",\"deno\"]},\n",
    "        {\"name\":\"nokia mobile\", \"tags\":[\"mobile\"]},\n",
    "        {\"name\":\"samsung screen guard\", \"tags\":[\"mobile\"]},\n",
    "        {\"name\":\"apple mobile\", \"tags\":[\"mobile\"]},\n",
    "        {\"name\":\"nike shoes\", \"tags\":[\"legs\"]},\n",
    "        {\"name\":\"nike socks\", \"tags\":[\"legs\"]},\n",
    "        {\"name\":\"jordern shoes\", \"tags\":[\"legs\"]},\n",
    "        {\"name\":\"samsung tv\", \"tags\":[\"tv\"]}\n",
    "    ]\n",
    "    \n",
    "    for x in search_pattern_arr:\n",
    "        for j in x[\"user\"]:\n",
    "            res = getReleventTags(j)\n",
    "            print(\"Product [{}] tag [{}]\".format(j,res))\n",
    "            # get all products that have a same tag as the searched products\n",
    "            for p in products:\n",
    "                #print(p['tags'])\n",
    "                if(res in p['tags']):\n",
    "                    print(p['name'])\n",
    "\n",
    "def getReleventTags(x):\n",
    "    tags = {\n",
    "        \"shoes\":\"legs\",\n",
    "        \"watch\":\"hands\",\n",
    "        \"mobile\":\"mobile\",\n",
    "        \"samsung\":\"legs\",\n",
    "        \"jeans\": \"legs\"\n",
    "    }\n",
    "    return tags.get(x, \"NO TAG FOUND FOR <{prod}>\".format(prod=x))\n",
    "\n",
    "main()"
   ]
  },
  {
   "cell_type": "code",
   "execution_count": null,
   "metadata": {},
   "outputs": [],
   "source": []
  }
 ],
 "metadata": {
  "kernelspec": {
   "display_name": "Python 3",
   "language": "python",
   "name": "python3"
  },
  "language_info": {
   "codemirror_mode": {
    "name": "ipython",
    "version": 3
   },
   "file_extension": ".py",
   "mimetype": "text/x-python",
   "name": "python",
   "nbconvert_exporter": "python",
   "pygments_lexer": "ipython3",
   "version": "3.7.6"
  }
 },
 "nbformat": 4,
 "nbformat_minor": 4
}
