{
 "cells": [
  {
   "cell_type": "code",
   "execution_count": 8,
   "metadata": {},
   "outputs": [],
   "source": [
    "# get recent user 10 search result.\n",
    "user_history_record = [\n",
    "        {\"<u_id:1>\":[\"shoes\",\"watch\",\"jeans\"]}, \n",
    "        {\"<u_id:2>\":[\"jeans\",\"shirt\",\"nokia\"]},\n",
    "        {\"<u_id:32>\":[\"samsung\"]}       \n",
    "]"
   ]
  },
  {
   "cell_type": "code",
   "execution_count": 9,
   "metadata": {},
   "outputs": [],
   "source": [
    "products = [\n",
    "        {\"name\":\"samsung mobile\", \"tags\":[\"mobile\",\"demo\"]},\n",
    "        {\"name\":\"nokia mobile\", \"tags\":[\"mobile\"]},\n",
    "        {\"name\":\"samsung screen guard\", \"tags\":[\"mobile\"]},\n",
    "        {\"name\":\"apple mobile\", \"tags\":[\"mobile\"]},\n",
    "        {\"name\":\"nike shoes\", \"tags\":[\"legs\"]},\n",
    "        {\"name\":\"nike socks\", \"tags\":[\"legs\"]},\n",
    "        {\"name\":\"demin jeans\", \"tags\":[\"legs\"]},\n",
    "        {\"name\":\"jordern shoes\", \"tags\":[\"legs\"]},\n",
    "        {\"name\":\"samsung tv\", \"tags\":[\"tv\"]}\n",
    "]"
   ]
  },
  {
   "cell_type": "code",
   "execution_count": 10,
   "metadata": {},
   "outputs": [],
   "source": [
    "tags = {\n",
    "        \"shoes\":\"legs\",\n",
    "        \"watch\":\"hands\",\n",
    "        \"mobile\":\"mobile\",\n",
    "        \"samsung\":\"mobile\",\n",
    "        \"jeans\": \"legs\",\n",
    "        \"nokia\": \"mobile\"\n",
    "    }\n",
    "# THIS IS THE PLACE WHERE THIS ALGO FAILS\n",
    "# \"samsung_<item_type>\":\"tv\" | \"mobile\" | \"fridge\"\n"
   ]
  },
  {
   "cell_type": "code",
   "execution_count": 11,
   "metadata": {},
   "outputs": [
    {
     "name": "stdout",
     "output_type": "stream",
     "text": [
      "Prod recommendation for <u_id:1>[SEARCH HISTORY]:  ['shoes', 'watch', 'jeans']\n",
      "nike shoes\n",
      "nike socks\n",
      "demin jeans\n",
      "jordern shoes\n",
      "\t----------------------------------------------\t\n",
      "Prod recommendation for <u_id:2>[SEARCH HISTORY]:  ['jeans', 'shirt', 'nokia']\n",
      "nike shoes\n",
      "nike socks\n",
      "demin jeans\n",
      "jordern shoes\n",
      "samsung mobile\n",
      "nokia mobile\n",
      "samsung screen guard\n",
      "apple mobile\n",
      "\t----------------------------------------------\t\n",
      "Prod recommendation for <u_id:32>[SEARCH HISTORY]:  ['samsung']\n",
      "samsung mobile\n",
      "nokia mobile\n",
      "samsung screen guard\n",
      "apple mobile\n",
      "\t----------------------------------------------\t\n"
     ]
    }
   ],
   "source": [
    "def main(products, user_history_record):\n",
    "    #sol: {\"user\":[{\"shoes\":\"legs\"},{\"watch\":\"hand\"},{\"jeans\":\"legs\"},{\"watch\":\"hand\"},{\"shirt\":\"hand\"}]} \n",
    "    #indentify that shoes has a tag legs\n",
    "    # jeans has a tag of legs\n",
    "    # how to add tag shoes with legs tag?\n",
    "    \n",
    "    for userHistory in user_history_record:\n",
    "        print(\"Prod recommendation for {}\".format(list(userHistory.keys())[0]), end=\"\")\n",
    "        print(\"[SEARCH HISTORY]: \", userHistory[list(userHistory.keys())[0]])\n",
    "        memo = {}\n",
    "        for history_i in userHistory[list(userHistory.keys())[0]]: # getting the first key from DICT\n",
    "            res = getReleventTags(history_i) # get relevet tag for the prod.\n",
    "            # get all products that have a same tag as the searched products\n",
    "            if res not in memo:\n",
    "                memo.__setitem__(res,1)\n",
    "            else:\n",
    "                continue\n",
    "            for product in products:\n",
    "                if(res in product['tags']):\n",
    "                    print(product['name'])\n",
    "        print(\"\\t----------------------------------------------\\t\")\n",
    "\n",
    "def getReleventTags(x):\n",
    "    global tags\n",
    "    return tags.get(x, \"NO TAG FOUND FOR <{prod}>\".format(prod=x))\n",
    "\n",
    "main(products, user_history_record)"
   ]
  },
  {
   "cell_type": "code",
   "execution_count": null,
   "metadata": {},
   "outputs": [],
   "source": []
  },
  {
   "cell_type": "code",
   "execution_count": null,
   "metadata": {},
   "outputs": [],
   "source": []
  }
 ],
 "metadata": {
  "kernelspec": {
   "display_name": "Python 3",
   "language": "python",
   "name": "python3"
  },
  "language_info": {
   "codemirror_mode": {
    "name": "ipython",
    "version": 3
   },
   "file_extension": ".py",
   "mimetype": "text/x-python",
   "name": "python",
   "nbconvert_exporter": "python",
   "pygments_lexer": "ipython3",
   "version": "3.8.5"
  }
 },
 "nbformat": 4,
 "nbformat_minor": 4
}
